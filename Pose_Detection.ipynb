{
 "cells": [
  {
   "cell_type": "markdown",
   "metadata": {},
   "source": [
    "## Pose Detection -"
   ]
  },
  {
   "cell_type": "markdown",
   "metadata": {},
   "source": [
    "Import Libraries :"
   ]
  },
  {
   "cell_type": "code",
   "execution_count": null,
   "metadata": {},
   "outputs": [],
   "source": [
    "import cv2\n",
    "import mediapipe as mp"
   ]
  },
  {
   "cell_type": "code",
   "execution_count": null,
   "metadata": {},
   "outputs": [],
   "source": [
    "mp_drawing = mp.solutions.drawing_utils\n",
    "mp_holistic = mp.solutions.holistic"
   ]
  },
  {
   "cell_type": "code",
   "execution_count": null,
   "metadata": {},
   "outputs": [],
   "source": [
    "cap = cv2.VideoCapture(\"Videos\\Man_Run.mp4\")\n",
    "#cap = cv2.VideoCapture(0)\n",
    "\n",
    "# Intilize holistic model :\n",
    "with mp_holistic.Holistic(min_detection_confidence=0.5,\n",
    "                          min_tracking_confidence = 0.5,\n",
    "                          refine_face_landmarks = True) as holistic:\n",
    "    \n",
    "    while cap.isOpened():\n",
    "        ret, frame = cap.read()\n",
    "        \n",
    "        # Recolor Feed\n",
    "        image = cv2.cvtColor(frame, cv2.COLOR_BGR2RGB)\n",
    "        \n",
    "        #make directions\n",
    "        results = holistic.process(image)\n",
    "        \n",
    "        # Recolor image black to BGR for rendering\n",
    "        image = cv2.cvtColor(image, cv2.COLOR_RGB2BGR)\n",
    "        \n",
    "        # 1. Draw Face Landmarks :\n",
    "        mp_drawing.draw_landmarks(image=image,\n",
    "                                  landmark_list = results.face_landmarks,\n",
    "                                  connections = mp_holistic.FACEMESH_TESSELATION,\n",
    "                                  landmark_drawing_spec = mp_drawing.DrawingSpec(color = (80,110,10), thickness=1, circle_radius=1),\n",
    "                                  connection_drawing_spec = mp_drawing.DrawingSpec(color=(80,256,121), thickness=1, circle_radius=1) \n",
    "                                  )\n",
    "        \n",
    "        # 2. Right Hand Landmarks :\n",
    "        mp_drawing.draw_landmarks(image=image,\n",
    "                                  landmark_list = results.right_hand_landmarks,\n",
    "                                  connections = mp_holistic.HAND_CONNECTIONS,\n",
    "                                  landmark_drawing_spec = mp_drawing.DrawingSpec(color = (80,22,10), thickness=2, circle_radius=1),\n",
    "                                  connection_drawing_spec = mp_drawing.DrawingSpec(color=(80,44,121), thickness=2, circle_radius=1) \n",
    "                                  )\n",
    "        # 3. Left Hand Landmarks :\n",
    "        mp_drawing.draw_landmarks(image=image,\n",
    "                                  landmark_list = results.left_hand_landmarks,\n",
    "                                  connections = mp_holistic.HAND_CONNECTIONS,\n",
    "                                  landmark_drawing_spec = mp_drawing.DrawingSpec(color = (121,22,76), thickness=2, circle_radius=1),\n",
    "                                  connection_drawing_spec = mp_drawing.DrawingSpec(color=(121,44,250), thickness=2, circle_radius=1) \n",
    "                                  )\n",
    "        \n",
    "        # 4. Pose Detections :\n",
    "        mp_drawing.draw_landmarks(image=image,\n",
    "                                  landmark_list = results.pose_landmarks,\n",
    "                                  connections = mp_holistic.POSE_CONNECTIONS,\n",
    "                                  landmark_drawing_spec = mp_drawing.DrawingSpec(color = (245,117,66), thickness=2, circle_radius=1),\n",
    "                                  connection_drawing_spec = mp_drawing.DrawingSpec(color=(245,66,230), thickness=2, circle_radius=1) \n",
    "                                  )\n",
    "        \n",
    "        cv2.imshow('Feed Video', image)\n",
    "\n",
    "        if cv2.waitKey(10) & 0xFF == ord('q'):\n",
    "            break\n",
    "\n",
    "cap.release()\n",
    "cv2.destroyAllWindows()"
   ]
  },
  {
   "cell_type": "code",
   "execution_count": null,
   "metadata": {},
   "outputs": [],
   "source": []
  }
 ],
 "metadata": {
  "kernelspec": {
   "display_name": "venv",
   "language": "python",
   "name": "python3"
  },
  "language_info": {
   "codemirror_mode": {
    "name": "ipython",
    "version": 3
   },
   "file_extension": ".py",
   "mimetype": "text/x-python",
   "name": "python",
   "nbconvert_exporter": "python",
   "pygments_lexer": "ipython3",
   "version": "3.12.3"
  }
 },
 "nbformat": 4,
 "nbformat_minor": 2
}
